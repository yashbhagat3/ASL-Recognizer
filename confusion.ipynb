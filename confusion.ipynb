{
 "cells": [
  {
   "cell_type": "code",
   "execution_count": 2,
   "metadata": {},
   "outputs": [
    {
     "name": "stderr",
     "output_type": "stream",
     "text": [
      "Using TensorFlow backend.\n"
     ]
    }
   ],
   "source": [
    "import pandas as pd\n",
    "import cv2\n",
    "import cv2 as cv\n",
    "import numpy as np\n",
    "from matplotlib import pyplot as plt\n",
    "\n",
    "import math\n",
    "import keras\n",
    "import tensorflow\n",
    "import pprint\n",
    "from sklearn.model_selection import train_test_split\n",
    "from keras import layers\n",
    "\n",
    "import os\n",
    "\n",
    "from tensorflow.python import keras\n",
    "from keras import layers\n",
    "from keras.models import Model, Sequential\n",
    "from keras.optimizers import Adam\n",
    "\n",
    "from sklearn.metrics import accuracy_score, confusion_matrix\n",
    "from sklearn.preprocessing import LabelBinarizer\n",
    "\n",
    "from keras.layers import Conv2D, MaxPool2D, Flatten, Dense, Dropout, BatchNormalization\n",
    "from keras.preprocessing.image import ImageDataGenerator\n",
    "from keras.models import Sequential\n",
    "from keras import regularizers\n",
    "from sklearn.model_selection import train_test_split\n",
    "\n",
    "\n",
    "import seaborn as sns"
   ]
  },
  {
   "cell_type": "code",
   "execution_count": 3,
   "metadata": {},
   "outputs": [],
   "source": [
    "labels_dict = {'A':0,'B':1,'C':2,'D':3,'E':4,'F':5,'G':6,'H':7,'I':8,'J':9,'K':10,'L':11,'M':12,\n",
    "                   'N':13,'O':14,'P':15,'Q':16,'R':17,'S':18,'T':19,'U':20,'V':21,'W':22,'X':23,'Y':24,\n",
    "                   'Z':25,'space':26,'del':27,'nothing':28}\n",
    "\n",
    "\n",
    "count_dict ={'A':920,'B':920,'C':920,'D':920,'E':920,'F':920,'G':920,'H':920,'I':920,'J':920,'K':910,'L':920,'M':920,\n",
    "                   'N':920,'O':914,'P':920,'Q':920,'R':920,'S':920,'T':920,'U':920,'V':920,'W':920,'X':920,'Y':920,\n",
    "                   'Z':920,'space':920,'del':920,'nothing':920}\n",
    "\n",
    "\n",
    "images = []\n",
    "labels = []\n",
    "size = 100,100\n",
    "\n"
   ]
  },
  {
   "cell_type": "code",
   "execution_count": 4,
   "metadata": {},
   "outputs": [
    {
     "name": "stdout",
     "output_type": "stream",
     "text": [
      "A-920\n",
      "B-920\n",
      "C-920\n",
      "D-920\n",
      "E-920\n",
      "F-920\n",
      "G-920\n",
      "H-920\n",
      "I-920\n",
      "J-920\n",
      "K-910\n",
      "L-920\n",
      "M-920\n",
      "N-920\n",
      "O-914\n",
      "P-920\n",
      "Q-920\n",
      "R-920\n",
      "S-920\n",
      "T-920\n",
      "U-920\n",
      "V-920\n",
      "W-920\n",
      "X-920\n",
      "Y-920\n",
      "Z-920\n",
      "space-920\n",
      "del-920\n",
      "nothing-920\n"
     ]
    }
   ],
   "source": [
    "for i in count_dict:\n",
    "    print (str(i)+'-'+str(count_dict[i]))\n",
    "    for j in range(0,count_dict[i]):\n",
    "        img = cv2.imread('train\\\\'+i+'\\\\'+str(j)+'.jpg')\n",
    "        gray = cv2.cvtColor(img,cv2.COLOR_BGR2GRAY)\n",
    "        temp_img = cv2.resize(gray, size)\n",
    "\n",
    "        images.append(temp_img)\n",
    "        labels.append(labels_dict[i])\n",
    "        \n"
   ]
  },
  {
   "cell_type": "code",
   "execution_count": 5,
   "metadata": {},
   "outputs": [
    {
     "data": {
      "text/plain": [
       "<matplotlib.image.AxesImage at 0x6346a20>"
      ]
     },
     "execution_count": 5,
     "metadata": {},
     "output_type": "execute_result"
    },
    {
     "data": {
      "image/png": "[encoded data removed]",
      "text/plain": [
       "<Figure size 432x288 with 1 Axes>"
      ]
     },
     "metadata": {
      "needs_background": "light"
     },
     "output_type": "display_data"
    }
   ],
   "source": [
    "imagebackup=images\n",
    "\n",
    "plt.title(labels[0])\n",
    "plt.imshow(images[0],cmap='gray')"
   ]
  },
  {
   "cell_type": "code",
   "execution_count": 6,
   "metadata": {},
   "outputs": [],
   "source": [
    "\n",
    "images=np.asarray(images)\n",
    "images = images.astype('float32')/255.0\n"
   ]
  },
  {
   "cell_type": "code",
   "execution_count": 7,
   "metadata": {},
   "outputs": [],
   "source": [
    "# print(images[0][0])"
   ]
  },
  {
   "cell_type": "code",
   "execution_count": 188,
   "metadata": {},
   "outputs": [],
   "source": [
    "# pprint.pprint(imageslist)"
   ]
  },
  {
   "cell_type": "code",
   "execution_count": 7,
   "metadata": {},
   "outputs": [],
   "source": [
    "templabels = labels\n",
    "\n",
    "\n",
    "X_train, X_test, Y_train, Y_test = train_test_split(images, labels, test_size = 0.05)\n",
    "\n",
    "X_train = X_train.reshape(X_train.shape + (1,))\n",
    "X_test = X_test.reshape(X_test.shape + (1,))\n",
    "\n",
    "label_binarizer = LabelBinarizer()\n",
    "y_train_encoded = label_binarizer.fit_transform(Y_train)\n",
    "y_test_encoded = label_binarizer.fit_transform(Y_test)"
   ]
  },
  {
   "cell_type": "code",
   "execution_count": 6,
   "metadata": {},
   "outputs": [
    {
     "name": "stderr",
     "output_type": "stream",
     "text": [
      "WARNING: Logging before flag parsing goes to stderr.\n",
      "W0710 15:21:55.946493  8028 deprecation_wrapper.py:119] From d:\\ve\\test-env\\lib\\site-packages\\keras\\backend\\tensorflow_backend.py:74: The name tf.get_default_graph is deprecated. Please use tf.compat.v1.get_default_graph instead.\n",
      "\n",
      "W0710 15:21:58.863918  8028 deprecation_wrapper.py:119] From d:\\ve\\test-env\\lib\\site-packages\\keras\\backend\\tensorflow_backend.py:517: The name tf.placeholder is deprecated. Please use tf.compat.v1.placeholder instead.\n",
      "\n",
      "W0710 15:21:59.487966  8028 deprecation_wrapper.py:119] From d:\\ve\\test-env\\lib\\site-packages\\keras\\backend\\tensorflow_backend.py:4138: The name tf.random_uniform is deprecated. Please use tf.random.uniform instead.\n",
      "\n",
      "W0710 15:22:00.018406  8028 deprecation_wrapper.py:119] From d:\\ve\\test-env\\lib\\site-packages\\keras\\backend\\tensorflow_backend.py:3976: The name tf.nn.max_pool is deprecated. Please use tf.nn.max_pool2d instead.\n",
      "\n",
      "W0710 15:22:00.580050  8028 deprecation_wrapper.py:119] From d:\\ve\\test-env\\lib\\site-packages\\keras\\backend\\tensorflow_backend.py:133: The name tf.placeholder_with_default is deprecated. Please use tf.compat.v1.placeholder_with_default instead.\n",
      "\n",
      "W0710 15:22:00.611252  8028 deprecation.py:506] From d:\\ve\\test-env\\lib\\site-packages\\keras\\backend\\tensorflow_backend.py:3445: calling dropout (from tensorflow.python.ops.nn_ops) with keep_prob is deprecated and will be removed in a future version.\n",
      "Instructions for updating:\n",
      "Please use `rate` instead of `keep_prob`. Rate should be set to `rate = 1 - keep_prob`.\n"
     ]
    },
    {
     "name": "stdout",
     "output_type": "stream",
     "text": [
      "_________________________________________________________________\n",
      "Layer (type)                 Output Shape              Param #   \n",
      "=================================================================\n",
      "input_1 (InputLayer)         (None, 100, 100, 1)       0         \n",
      "_________________________________________________________________\n",
      "conv2d_1 (Conv2D)            (None, 98, 98, 64)        640       \n",
      "_________________________________________________________________\n",
      "conv2d_2 (Conv2D)            (None, 96, 96, 32)        18464     \n",
      "_________________________________________________________________\n",
      "max_pooling2d_1 (MaxPooling2 (None, 48, 48, 32)        0         \n",
      "_________________________________________________________________\n",
      "dropout_1 (Dropout)          (None, 48, 48, 32)        0         \n",
      "_________________________________________________________________\n",
      "conv2d_3 (Conv2D)            (None, 46, 46, 64)        18496     \n",
      "_________________________________________________________________\n",
      "conv2d_4 (Conv2D)            (None, 44, 44, 128)       73856     \n",
      "_________________________________________________________________\n",
      "max_pooling2d_2 (MaxPooling2 (None, 22, 22, 128)       0         \n",
      "_________________________________________________________________\n",
      "dropout_2 (Dropout)          (None, 22, 22, 128)       0         \n",
      "_________________________________________________________________\n",
      "conv2d_5 (Conv2D)            (None, 21, 21, 64)        32832     \n",
      "_________________________________________________________________\n",
      "max_pooling2d_3 (MaxPooling2 (None, 10, 10, 64)        0         \n",
      "_________________________________________________________________\n",
      "flatten_1 (Flatten)          (None, 6400)              0         \n",
      "_________________________________________________________________\n",
      "dense_1 (Dense)              (None, 128)               819328    \n",
      "_________________________________________________________________\n",
      "dropout_3 (Dropout)          (None, 128)               0         \n",
      "_________________________________________________________________\n",
      "dense_2 (Dense)              (None, 29)                3741      \n",
      "=================================================================\n",
      "Total params: 967,357\n",
      "Trainable params: 967,357\n",
      "Non-trainable params: 0\n",
      "_________________________________________________________________\n"
     ]
    }
   ],
   "source": [
    "model = load_model('model_edged.h5')"
   ]
  },
  {
   "cell_type": "code",
   "execution_count": 46,
   "metadata": {},
   "outputs": [],
   "source": []
  },
  {
   "cell_type": "code",
   "execution_count": null,
   "metadata": {},
   "outputs": [
    {
     "name": "stderr",
     "output_type": "stream",
     "text": [
      "W0709 15:13:52.017056  6040 deprecation.py:323] From d:\\ve\\test-env\\lib\\site-packages\\tensorflow\\python\\ops\\math_grad.py:1250: add_dispatch_support.<locals>.wrapper (from tensorflow.python.ops.array_ops) is deprecated and will be removed in a future version.\n",
      "Instructions for updating:\n",
      "Use tf.where in 2.0, which has the same broadcast rule as np.where\n"
     ]
    },
    {
     "name": "stdout",
     "output_type": "stream",
     "text": [
      "Train on 50661 samples, validate on 2667 samples\n",
      "Epoch 1/20\n",
      "50661/50661 [==============================] - 1533s 30ms/step - loss: 2.7136 - acc: 0.2558 - val_loss: 1.9149 - val_acc: 0.5722\n",
      "Epoch 2/20\n",
      "50661/50661 [==============================] - 1489s 29ms/step - loss: 1.8018 - acc: 0.4728 - val_loss: 0.9264 - val_acc: 0.7889\n",
      "Epoch 3/20\n",
      "50661/50661 [==============================] - 1482s 29ms/step - loss: 1.2259 - acc: 0.6168 - val_loss: 0.4804 - val_acc: 0.8826\n",
      "Epoch 4/20\n",
      "50661/50661 [==============================] - 1481s 29ms/step - loss: 0.8846 - acc: 0.7126 - val_loss: 0.2739 - val_acc: 0.9321\n",
      "Epoch 5/20\n",
      "50661/50661 [==============================] - 1478s 29ms/step - loss: 0.6798 - acc: 0.7750 - val_loss: 0.1801 - val_acc: 0.9501\n",
      "Epoch 6/20\n",
      "50661/50661 [==============================] - 1572s 31ms/step - loss: 0.5384 - acc: 0.8196 - val_loss: 0.1248 - val_acc: 0.9655\n",
      "Epoch 7/20\n",
      "50661/50661 [==============================] - 1603s 32ms/step - loss: 0.4461 - acc: 0.8483 - val_loss: 0.0948 - val_acc: 0.9730\n",
      "Epoch 8/20\n",
      "50661/50661 [==============================] - 1518s 30ms/step - loss: 0.3810 - acc: 0.8673 - val_loss: 0.0720 - val_acc: 0.9805\n",
      "Epoch 9/20\n",
      "50661/50661 [==============================] - 67094s 1s/step - loss: 0.3235 - acc: 0.8864 - val_loss: 0.0560 - val_acc: 0.9843\n",
      "Epoch 10/20\n",
      "50661/50661 [==============================] - 1917s 38ms/step - loss: 0.2820 - acc: 0.9002 - val_loss: 0.0447 - val_acc: 0.9876\n",
      "Epoch 11/20\n",
      "50661/50661 [==============================] - 2535s 50ms/step - loss: 0.2501 - acc: 0.9134 - val_loss: 0.0381 - val_acc: 0.9891\n",
      "Epoch 12/20\n",
      "33280/50661 [==================>...........] - ETA: 14:42 - loss: 0.2306 - acc: 0.9172"
     ]
    }
   ],
   "source": []
  },
  {
   "cell_type": "code",
   "execution_count": 1,
   "metadata": {},
   "outputs": [],
   "source": [
    "# #@title Plot Model Performance\n",
    "# acc = history.history['acc']\n",
    "# val_acc = history.history['val_acc']\n",
    "# loss = history.history['loss']\n",
    "# val_loss = history.history['val_loss']\n",
    "# epochs_range = range(1, EPOCHS + 1)\n",
    "\n",
    "# plt.figure(figsize=(15,5))\n",
    "\n",
    "# plt.subplot(1, 2, 1)\n",
    "# plt.plot(epochs_range, acc, label='Train Set')\n",
    "# plt.plot(epochs_range, val_acc, label='Test Set')\n",
    "# plt.legend(loc=\"best\")\n",
    "# plt.xlabel('Epochs')\n",
    "# plt.title('Model Accuracy')\n",
    "\n",
    "# plt.subplot(1, 2, 2)\n",
    "# plt.plot(epochs_range, loss, label='Train Set')\n",
    "# plt.plot(epochs_range, val_loss, label='Test Set')\n",
    "# plt.legend(loc=\"best\")\n",
    "# plt.xlabel('Epochs')\n",
    "# plt.title('Model Loss')\n",
    "\n",
    "# plt.tight_layout()\n",
    "# plt.savefig('model_performance.jpg')\n",
    "# plt.show()"
   ]
  },
  {
   "cell_type": "code",
   "execution_count": null,
   "metadata": {},
   "outputs": [],
   "source": [
    "# validate\n",
    "predictions = model.predict(X_test)\n",
    "predictions = np.argmax(predictions, axis=1)\n",
    "\n",
    "accuracy = accuracy_score(y_test, predictions)\n",
    "print('Test Accuracy = %.2f' % accuracy)"
   ]
  },
  {
   "cell_type": "code",
   "execution_count": null,
   "metadata": {},
   "outputs": [],
   "source": [
    "confusion_mtx = confusion_matrix(y_test, predictions) \n",
    "cm = plot_confusion_matrix(confusion_mtx, classes = list(alphabet.keys()), normalize=True)"
   ]
  },
  {
   "cell_type": "code",
   "execution_count": null,
   "metadata": {},
   "outputs": [],
   "source": [
    "model.save('model_edged2.h5')"
   ]
  }
 ],
 "metadata": {
  "kernelspec": {
   "display_name": "Python 3",
   "language": "python",
   "name": "python3"
  },
  "language_info": {
   "codemirror_mode": {
    "name": "ipython",
    "version": 3
   },
   "file_extension": ".py",
   "mimetype": "text/x-python",
   "name": "python",
   "nbconvert_exporter": "python",
   "pygments_lexer": "ipython3",
   "version": "3.6.8"
  }
 },
 "nbformat": 4,
 "nbformat_minor": 2
}
