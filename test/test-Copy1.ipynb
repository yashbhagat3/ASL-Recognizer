{
 "cells": [
  {
   "cell_type": "code",
   "execution_count": 13,
   "metadata": {},
   "outputs": [],
   "source": [
    "import cv2\n",
    "import numpy as np\n",
    "from matplotlib import pyplot as plt\n",
    "import copy as cp\n",
    "\n",
    "img = cv2.imread('testw.jpg')\n",
    "\n",
    "#cv2.imshow('sd',img)\n",
    "#cv2.waitKey(0)\n",
    "#cv2.destroyAllWindows()"
   ]
  },
  {
   "cell_type": "code",
   "execution_count": 7,
   "metadata": {},
   "outputs": [],
   "source": [
    "gray = cv2.cvtColor(img,cv2.COLOR_BGR2GRAY)\n",
    "gray = np.float32(gray)\n",
    "dst=cv2.cornerHarris(gray,2,3,0.04)\n",
    "dst = cv2.dilate(dst,None)\n",
    "img[dst>0.01*dst.max()]=[0,0,255]"
   ]
  },
  {
   "cell_type": "code",
   "execution_count": 8,
   "metadata": {},
   "outputs": [],
   "source": [
    "cv2.imshow('img',img)\n",
    "cv2.waitKey(0)\n",
    "cv2.destroyAllWindows()"
   ]
  },
  {
   "cell_type": "code",
   "execution_count": 17,
   "metadata": {},
   "outputs": [
    {
     "data": {
      "text/plain": [
       "-1"
      ]
     },
     "execution_count": 17,
     "metadata": {},
     "output_type": "execute_result"
    }
   ],
   "source": [
    "\n",
    "def harris_corners(image):\n",
    "\n",
    "    gray_img = cv2.cvtColor(image,cv2.COLOR_BGR2GRAY)\n",
    "    gray_img = np.float32(gray_img)\n",
    "\n",
    "    #You can play with these parameters to get different outputs\n",
    "    corners_img = cv2.cornerHarris(gray_img,3,3,0.04)\n",
    "\n",
    "    image[corners_img>0.001*corners_img.max()] = [255,255,0]\n",
    "\n",
    "    return image\n",
    "\n",
    "def shi_tomasi(image):\n",
    "\n",
    "    gray_img = cv2.cvtColor(image,cv2.COLOR_BGR2GRAY)\n",
    "    \n",
    "    #You can play with these parameters to get different outputs \n",
    "    corners_img = cv2.goodFeaturesToTrack(gray_img,1200,0.01,10)\n",
    "    #corners_img = np.int0(corners_img)\n",
    "\n",
    "    blank_img = np.zeros((image.shape[0],image.shape[1],3),np.uint8)\n",
    "\n",
    "    for corners in corners_img:\n",
    "\n",
    "        x,y = corners.ravel()\n",
    "        cv2.circle(image,(x,y),3,[255,255,0],-1)\n",
    "        cv2.circle(blank_img,(x,y),2,[255,255,0],-1)\n",
    "\n",
    "    return image,blank_img\n",
    "\n",
    "\n",
    "\n",
    "\n",
    "\n",
    "def find_corners(img):\n",
    "\n",
    "    img_dup = cp.copy(img)\n",
    "    img_dup1 = cp.copy(img)\n",
    "\n",
    "    harris = harris_corners(img)\n",
    "    shitomasi,silhouette = shi_tomasi(img_dup)\n",
    "    \n",
    "    #Display different corner detection methods side by side\n",
    "    \n",
    "    out1 = np.concatenate((harris,shitomasi),axis=1)\n",
    "    out2 = np.concatenate((img_dup1,silhouette),axis=1)\n",
    "\n",
    "    out3 = np.concatenate((out1,out2),axis=0)    \n",
    "    #cv2.imshow('Left: Harris, Right: Shi-Tomasi',out1)\n",
    "    #cv2.imshow('Important points',out2)\n",
    "    cv2.imshow('Corners',out3)\n",
    "    return harris,shitomasi,silhouette,out3\n",
    "\n",
    "\n",
    "\n",
    "harris,shitomasi,silhoutte,out3 = find_corners(img)\n",
    "\n",
    "\n",
    "cv2.waitKey(0)\n"
   ]
  },
  {
   "cell_type": "code",
   "execution_count": null,
   "metadata": {},
   "outputs": [],
   "source": []
  }
 ],
 "metadata": {
  "kernelspec": {
   "display_name": "Python 3",
   "language": "python",
   "name": "python3"
  },
  "language_info": {
   "codemirror_mode": {
    "name": "ipython",
    "version": 3
   },
   "file_extension": ".py",
   "mimetype": "text/x-python",
   "name": "python",
   "nbconvert_exporter": "python",
   "pygments_lexer": "ipython3",
   "version": "3.6.8"
  }
 },
 "nbformat": 4,
 "nbformat_minor": 2
}
