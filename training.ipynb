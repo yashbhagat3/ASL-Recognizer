{
 "cells": [
  {
   "cell_type": "code",
   "execution_count": 30,
   "metadata": {},
   "outputs": [],
   "source": [
    "import pandas as pd\n",
    "import cv2\n",
    "import cv2 as cv\n",
    "import numpy as np\n",
    "from matplotlib import pyplot as plt\n",
    "import copy as cp\n",
    "import numpy as np\n",
    "import math\n",
    "import keras\n",
    "import tensorflow\n",
    "import pprint\n",
    "from sklearn.model_selection import train_test_split\n",
    "from keras import layers\n",
    "\n",
    "\n",
    "\n",
    "\n",
    "import os\n",
    "import cv2\n",
    "import math\n",
    "import numpy as np\n",
    "\n",
    "\n",
    "\n",
    "import matplotlib.pyplot as plt\n",
    "from IPython.display import clear_output\n",
    "\n",
    "from tensorflow.python import keras\n",
    "from keras import layers\n",
    "from keras.models import Model, Sequential\n",
    "from keras.optimizers import Adam\n",
    "\n",
    "from sklearn.metrics import accuracy_score, confusion_matrix\n",
    "from sklearn.preprocessing import LabelBinarizer\n",
    "\n",
    "\n",
    "import numpy as np\n",
    "import pandas as pd\n",
    "import os\n",
    "import keras\n",
    "from keras.layers import Conv2D, MaxPool2D, Flatten, Dense, Dropout, BatchNormalization\n",
    "from keras.preprocessing.image import ImageDataGenerator\n",
    "from keras.models import Sequential\n",
    "from keras import regularizers\n",
    "from sklearn.model_selection import train_test_split\n",
    "import cv2\n",
    "import matplotlib.pyplot as plt\n",
    "import seaborn as sns"
   ]
  },
  {
   "cell_type": "code",
   "execution_count": 33,
   "metadata": {},
   "outputs": [],
   "source": [
    "labels_dict = {'A':0,'B':1,'C':2,'D':3,'E':4,'F':5,'G':6,'H':7,'I':8,'J':9,'K':10,'L':11,'M':12,\n",
    "                   'N':13,'O':14,'P':15,'Q':16,'R':17,'S':18,'T':19,'U':20,'V':21,'W':22,'X':23,'Y':24,\n",
    "                   'Z':25,'space':26,'del':27,'nothing':28}\n",
    "\n",
    "\n",
    "count_dict ={'A':920,'B':920,'C':920,'D':920,'E':920,'F':920,'G':920,'H':920,'I':920,'J':920,'K':910,'L':920,'M':920,\n",
    "                   'N':920,'O':914,'P':920,'Q':920,'R':920,'S':920,'T':920,'U':920,'V':920,'W':920,'X':920,'Y':920,\n",
    "                   'Z':920,'space':920,'del':920,'nothing':920}\n",
    "\n",
    "\n",
    "images = []\n",
    "labels = []\n",
    "size = 64,64\n",
    "\n",
    "#     X = []\n",
    "#     y = []\n",
    "#     for path in tqdm(sorted(os.listdir(dir))):\n",
    "#         for file in os.listdir(dir + path):\n",
    "#             if not file.startswith('.'):\n",
    "#                 img = cv2.imread(dir + path + '/' + file, 0)\n",
    "#                 img = ~img\n",
    "#                 img = cv2.GaussianBlur(img, (3, 3), 0)\n",
    "#                 img = cv2.resize(\n",
    "#                     img,\n",
    "#                     dsize=(img_size, img_size),\n",
    "#                     interpolation=cv2.INTER_CUBIC\n",
    "#                 )\n",
    "#                 X.append(img)\n",
    "#                 y.append(alphabet[path])\n",
    "\n",
    "#     X = np.array(X)\n",
    "#     X = X.astype('float32')/255.0\n",
    "#     y = np.array(y)\n",
    "#     print('\\n{} images loaded.'.format(len(X)))"
   ]
  },
  {
   "cell_type": "code",
   "execution_count": 40,
   "metadata": {},
   "outputs": [
    {
     "name": "stdout",
     "output_type": "stream",
     "text": [
      "A920\n",
      "B920\n",
      "C920\n",
      "D920\n",
      "E920\n",
      "F920\n",
      "G920\n",
      "H920\n",
      "I920\n",
      "J920\n",
      "K910\n",
      "L920\n",
      "M920\n",
      "N920\n",
      "O914\n",
      "P920\n",
      "Q920\n",
      "R920\n",
      "S920\n",
      "T920\n",
      "U920\n",
      "V920\n",
      "W920\n",
      "X920\n",
      "Y920\n",
      "Z920\n",
      "space920\n",
      "del920\n",
      "nothing920\n"
     ]
    }
   ],
   "source": [
    "for i in count_dict:\n",
    "    print (str(i)+str(count_dict[i]))\n",
    "    for j in range(0,count_dict[i]):\n",
    "        img = cv2.imread('train\\\\'+i+'\\\\'+str(j)+'.jpg')\n",
    "        gray = cv2.cvtColor(img,cv2.COLOR_BGR2GRAY)\n",
    "        temp_img = cv2.resize(gray, size)\n",
    "#         images = np.array(temp_img)\n",
    "#         temp_img = temp_img.astype('float32')/255.0\n",
    "        images.append(temp_img)\n",
    "        labels.append(labels_dict[i])\n",
    "        \n"
   ]
  },
  {
   "cell_type": "code",
   "execution_count": 41,
   "metadata": {},
   "outputs": [
    {
     "data": {
      "text/plain": [
       "<matplotlib.image.AxesImage at 0x2eeb3f28>"
      ]
     },
     "execution_count": 41,
     "metadata": {},
     "output_type": "execute_result"
    },
    {
     "data": {
      "image/png": "[encoded data removed]",
      "text/plain": [
       "<Figure size 432x288 with 1 Axes>"
      ]
     },
     "metadata": {
      "needs_background": "light"
     },
     "output_type": "display_data"
    }
   ],
   "source": [
    "imagebackup=images\n",
    "\n",
    "plt.title(labels[925])\n",
    "plt.imshow(images[925],cmap='gray')"
   ]
  },
  {
   "cell_type": "code",
   "execution_count": 42,
   "metadata": {},
   "outputs": [],
   "source": [
    "\n",
    "images=np.asarray(images)\n",
    "images = images.astype('float32')/255.0\n"
   ]
  },
  {
   "cell_type": "code",
   "execution_count": 187,
   "metadata": {},
   "outputs": [],
   "source": [
    "# pprint.pprint(images)"
   ]
  },
  {
   "cell_type": "code",
   "execution_count": 188,
   "metadata": {},
   "outputs": [],
   "source": [
    "# pprint.pprint(imageslist)"
   ]
  },
  {
   "cell_type": "code",
   "execution_count": 43,
   "metadata": {},
   "outputs": [],
   "source": [
    "templabels = labels\n",
    "# labels = keras.utils.to_categorical(labels)\n",
    "\n",
    "X_train, X_test, Y_train, Y_test = train_test_split(images, labels, test_size = 0.05)\n",
    "\n",
    "X_train = X_train.reshape(X_train.shape + (1,))\n",
    "X_test = X_test.reshape(X_test.shape + (1,))\n",
    "\n",
    "label_binarizer = LabelBinarizer()\n",
    "y_train_encoded = label_binarizer.fit_transform(Y_train)\n",
    "y_test_encoded = label_binarizer.fit_transform(Y_test)"
   ]
  },
  {
   "cell_type": "code",
   "execution_count": null,
   "metadata": {},
   "outputs": [],
   "source": []
  },
  {
   "cell_type": "code",
   "execution_count": 45,
   "metadata": {},
   "outputs": [
    {
     "name": "stdout",
     "output_type": "stream",
     "text": [
      "_________________________________________________________________\n",
      "Layer (type)                 Output Shape              Param #   \n",
      "=================================================================\n",
      "input_9 (InputLayer)         (None, 64, 64, 1)         0         \n",
      "_________________________________________________________________\n",
      "conv2d_53 (Conv2D)           (None, 62, 62, 64)        640       \n",
      "_________________________________________________________________\n",
      "conv2d_54 (Conv2D)           (None, 60, 60, 32)        18464     \n",
      "_________________________________________________________________\n",
      "max_pooling2d_31 (MaxPooling (None, 30, 30, 32)        0         \n",
      "_________________________________________________________________\n",
      "dropout_27 (Dropout)         (None, 30, 30, 32)        0         \n",
      "_________________________________________________________________\n",
      "conv2d_55 (Conv2D)           (None, 28, 28, 64)        18496     \n",
      "_________________________________________________________________\n",
      "conv2d_56 (Conv2D)           (None, 26, 26, 128)       73856     \n",
      "_________________________________________________________________\n",
      "max_pooling2d_32 (MaxPooling (None, 13, 13, 128)       0         \n",
      "_________________________________________________________________\n",
      "dropout_28 (Dropout)         (None, 13, 13, 128)       0         \n",
      "_________________________________________________________________\n",
      "conv2d_57 (Conv2D)           (None, 12, 12, 64)        32832     \n",
      "_________________________________________________________________\n",
      "max_pooling2d_33 (MaxPooling (None, 6, 6, 64)          0         \n",
      "_________________________________________________________________\n",
      "flatten_11 (Flatten)         (None, 2304)              0         \n",
      "_________________________________________________________________\n",
      "dense_19 (Dense)             (None, 128)               295040    \n",
      "_________________________________________________________________\n",
      "dropout_29 (Dropout)         (None, 128)               0         \n",
      "_________________________________________________________________\n",
      "dense_20 (Dense)             (None, 29)                3741      \n",
      "=================================================================\n",
      "Total params: 443,069\n",
      "Trainable params: 443,069\n",
      "Non-trainable params: 0\n",
      "_________________________________________________________________\n"
     ]
    }
   ],
   "source": [
    "img_input = layers.Input(shape=(64,64, 1))\n",
    "\n",
    "x = layers.Conv2D(64, 3, activation='relu')(img_input)\n",
    "x = layers.Conv2D(32, 3, activation='relu')(x)\n",
    "x = layers.MaxPooling2D(2)(x)\n",
    "x = layers.Dropout(0.5)(x)\n",
    "x = layers.Conv2D(64, 3, activation='relu')(x)\n",
    "x = layers.Conv2D(128, 3, activation='relu')(x)\n",
    "x = layers.MaxPooling2D(2)(x)\n",
    "x = layers.Dropout(0.5)(x)\n",
    "x = layers.Conv2D(64, 2, activation='relu')(x)\n",
    "x = layers.MaxPooling2D(2)(x)\n",
    "x = layers.Flatten()(x)\n",
    "x = layers.Dense(128, activation='relu')(x)\n",
    "x = layers.Dropout(0.5)(x)\n",
    "\n",
    "output = layers.Dense(29, activation='softmax')(x)\n",
    "\n",
    "model = Model(img_input, output)\n",
    "model.summary()\n"
   ]
  },
  {
   "cell_type": "code",
   "execution_count": 46,
   "metadata": {},
   "outputs": [],
   "source": [
    "model.compile(\n",
    "    loss='categorical_crossentropy',\n",
    "    optimizer=Adam(1e-04),\n",
    "    metrics=['acc']\n",
    ")"
   ]
  },
  {
   "cell_type": "code",
   "execution_count": null,
   "metadata": {},
   "outputs": [
    {
     "name": "stderr",
     "output_type": "stream",
     "text": [
      "W0709 15:13:52.017056  6040 deprecation.py:323] From d:\\ve\\test-env\\lib\\site-packages\\tensorflow\\python\\ops\\math_grad.py:1250: add_dispatch_support.<locals>.wrapper (from tensorflow.python.ops.array_ops) is deprecated and will be removed in a future version.\n",
      "Instructions for updating:\n",
      "Use tf.where in 2.0, which has the same broadcast rule as np.where\n"
     ]
    },
    {
     "name": "stdout",
     "output_type": "stream",
     "text": [
      "Train on 50661 samples, validate on 2667 samples\n",
      "Epoch 1/20\n",
      "50661/50661 [==============================] - 1533s 30ms/step - loss: 2.7136 - acc: 0.2558 - val_loss: 1.9149 - val_acc: 0.5722\n",
      "Epoch 2/20\n",
      "50661/50661 [==============================] - 1489s 29ms/step - loss: 1.8018 - acc: 0.4728 - val_loss: 0.9264 - val_acc: 0.7889\n",
      "Epoch 3/20\n",
      "50661/50661 [==============================] - 1482s 29ms/step - loss: 1.2259 - acc: 0.6168 - val_loss: 0.4804 - val_acc: 0.8826\n",
      "Epoch 4/20\n",
      "50661/50661 [==============================] - 1481s 29ms/step - loss: 0.8846 - acc: 0.7126 - val_loss: 0.2739 - val_acc: 0.9321\n",
      "Epoch 5/20\n",
      "50661/50661 [==============================] - 1478s 29ms/step - loss: 0.6798 - acc: 0.7750 - val_loss: 0.1801 - val_acc: 0.9501\n",
      "Epoch 6/20\n",
      "27072/50661 [===============>..............] - ETA: 11:20 - loss: 0.5630 - acc: 0.8121"
     ]
    }
   ],
   "source": [
    "EPOCHS = 20\n",
    "BATCH_SIZE = 64\n",
    "\n",
    "history = model.fit(\n",
    "    x=X_train, \n",
    "    y=y_train_encoded,\n",
    "    batch_size=BATCH_SIZE,\n",
    "    epochs=EPOCHS,\n",
    "    validation_data=(X_test, y_test_encoded)\n",
    ")"
   ]
  },
  {
   "cell_type": "code",
   "execution_count": null,
   "metadata": {},
   "outputs": [],
   "source": []
  }
 ],
 "metadata": {
  "kernelspec": {
   "display_name": "Python 3",
   "language": "python",
   "name": "python3"
  },
  "language_info": {
   "codemirror_mode": {
    "name": "ipython",
    "version": 3
   },
   "file_extension": ".py",
   "mimetype": "text/x-python",
   "name": "python",
   "nbconvert_exporter": "python",
   "pygments_lexer": "ipython3",
   "version": "3.6.8"
  }
 },
 "nbformat": 4,
 "nbformat_minor": 2
}
